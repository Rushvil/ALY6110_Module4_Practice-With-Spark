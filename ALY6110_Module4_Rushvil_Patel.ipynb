{
  "nbformat": 4,
  "nbformat_minor": 0,
  "metadata": {
    "colab": {
      "provenance": [],
      "authorship_tag": "ABX9TyOTqbg6exILPBInC5Z7pkY4",
      "include_colab_link": true
    },
    "kernelspec": {
      "name": "python3",
      "display_name": "Python 3"
    },
    "language_info": {
      "name": "python"
    }
  },
  "cells": [
    {
      "cell_type": "markdown",
      "metadata": {
        "id": "view-in-github",
        "colab_type": "text"
      },
      "source": [
        "<a href=\"https://colab.research.google.com/github/Rushvil/ALY6110_Module4_Practice-With-Spark/blob/main/ALY6110_Module4_Rushvil_Patel.ipynb\" target=\"_parent\"><img src=\"https://colab.research.google.com/assets/colab-badge.svg\" alt=\"Open In Colab\"/></a>"
      ]
    },
    {
      "cell_type": "code",
      "execution_count": 57,
      "metadata": {
        "id": "jQOcKYzN-DcZ"
      },
      "outputs": [],
      "source": [
        "# innstall java\n",
        "!apt-get install openjdk-8-jdk-headless -qq > /dev/null\n",
        "\n",
        "# install spark (change the version number if needed)\n",
        "!wget -q https://archive.apache.org/dist/spark/spark-3.0.0/spark-3.0.0-bin-hadoop3.2.tgz\n",
        "\n",
        "# unzip the spark file to the current folder\n",
        "!tar xf spark-3.0.0-bin-hadoop3.2.tgz\n",
        "\n",
        "# set your spark folder to your system path environment. \n",
        "import os\n",
        "os.environ[\"JAVA_HOME\"] = \"/usr/lib/jvm/java-8-openjdk-amd64\"\n",
        "os.environ[\"SPARK_HOME\"] = \"/content/spark-3.0.0-bin-hadoop3.2\"\n",
        "\n",
        "# install findspark using pip\n",
        "!pip install -q findspark"
      ]
    },
    {
      "cell_type": "code",
      "source": [
        "import pandas as pd"
      ],
      "metadata": {
        "id": "J2PsIaIB-y9-"
      },
      "execution_count": null,
      "outputs": []
    },
    {
      "cell_type": "code",
      "source": [
        "import findspark\n",
        "findspark.init()\n",
        "from pyspark.sql import SparkSession\n",
        "spark = SparkSession.builder.master(\"local[*]\").getOrCreate()"
      ],
      "metadata": {
        "id": "TgSqQy6t-06v"
      },
      "execution_count": null,
      "outputs": []
    },
    {
      "cell_type": "code",
      "source": [
        "from google.colab import files\n",
        "files.upload()"
      ],
      "metadata": {
        "colab": {
          "base_uri": "https://localhost:8080/",
          "height": 130
        },
        "id": "_zOvNcxa-5VY",
        "outputId": "35eba9ab-c524-4047-88a8-ee3639a04893"
      },
      "execution_count": null,
      "outputs": [
        {
          "output_type": "display_data",
          "data": {
            "text/plain": [
              "<IPython.core.display.HTML object>"
            ],
            "text/html": [
              "\n",
              "     <input type=\"file\" id=\"files-9152195e-2049-4500-92fe-9711ffb2f113\" name=\"files[]\" multiple disabled\n",
              "        style=\"border:none\" />\n",
              "     <output id=\"result-9152195e-2049-4500-92fe-9711ffb2f113\">\n",
              "      Upload widget is only available when the cell has been executed in the\n",
              "      current browser session. Please rerun this cell to enable.\n",
              "      </output>\n",
              "      <script>// Copyright 2017 Google LLC\n",
              "//\n",
              "// Licensed under the Apache License, Version 2.0 (the \"License\");\n",
              "// you may not use this file except in compliance with the License.\n",
              "// You may obtain a copy of the License at\n",
              "//\n",
              "//      http://www.apache.org/licenses/LICENSE-2.0\n",
              "//\n",
              "// Unless required by applicable law or agreed to in writing, software\n",
              "// distributed under the License is distributed on an \"AS IS\" BASIS,\n",
              "// WITHOUT WARRANTIES OR CONDITIONS OF ANY KIND, either express or implied.\n",
              "// See the License for the specific language governing permissions and\n",
              "// limitations under the License.\n",
              "\n",
              "/**\n",
              " * @fileoverview Helpers for google.colab Python module.\n",
              " */\n",
              "(function(scope) {\n",
              "function span(text, styleAttributes = {}) {\n",
              "  const element = document.createElement('span');\n",
              "  element.textContent = text;\n",
              "  for (const key of Object.keys(styleAttributes)) {\n",
              "    element.style[key] = styleAttributes[key];\n",
              "  }\n",
              "  return element;\n",
              "}\n",
              "\n",
              "// Max number of bytes which will be uploaded at a time.\n",
              "const MAX_PAYLOAD_SIZE = 100 * 1024;\n",
              "\n",
              "function _uploadFiles(inputId, outputId) {\n",
              "  const steps = uploadFilesStep(inputId, outputId);\n",
              "  const outputElement = document.getElementById(outputId);\n",
              "  // Cache steps on the outputElement to make it available for the next call\n",
              "  // to uploadFilesContinue from Python.\n",
              "  outputElement.steps = steps;\n",
              "\n",
              "  return _uploadFilesContinue(outputId);\n",
              "}\n",
              "\n",
              "// This is roughly an async generator (not supported in the browser yet),\n",
              "// where there are multiple asynchronous steps and the Python side is going\n",
              "// to poll for completion of each step.\n",
              "// This uses a Promise to block the python side on completion of each step,\n",
              "// then passes the result of the previous step as the input to the next step.\n",
              "function _uploadFilesContinue(outputId) {\n",
              "  const outputElement = document.getElementById(outputId);\n",
              "  const steps = outputElement.steps;\n",
              "\n",
              "  const next = steps.next(outputElement.lastPromiseValue);\n",
              "  return Promise.resolve(next.value.promise).then((value) => {\n",
              "    // Cache the last promise value to make it available to the next\n",
              "    // step of the generator.\n",
              "    outputElement.lastPromiseValue = value;\n",
              "    return next.value.response;\n",
              "  });\n",
              "}\n",
              "\n",
              "/**\n",
              " * Generator function which is called between each async step of the upload\n",
              " * process.\n",
              " * @param {string} inputId Element ID of the input file picker element.\n",
              " * @param {string} outputId Element ID of the output display.\n",
              " * @return {!Iterable<!Object>} Iterable of next steps.\n",
              " */\n",
              "function* uploadFilesStep(inputId, outputId) {\n",
              "  const inputElement = document.getElementById(inputId);\n",
              "  inputElement.disabled = false;\n",
              "\n",
              "  const outputElement = document.getElementById(outputId);\n",
              "  outputElement.innerHTML = '';\n",
              "\n",
              "  const pickedPromise = new Promise((resolve) => {\n",
              "    inputElement.addEventListener('change', (e) => {\n",
              "      resolve(e.target.files);\n",
              "    });\n",
              "  });\n",
              "\n",
              "  const cancel = document.createElement('button');\n",
              "  inputElement.parentElement.appendChild(cancel);\n",
              "  cancel.textContent = 'Cancel upload';\n",
              "  const cancelPromise = new Promise((resolve) => {\n",
              "    cancel.onclick = () => {\n",
              "      resolve(null);\n",
              "    };\n",
              "  });\n",
              "\n",
              "  // Wait for the user to pick the files.\n",
              "  const files = yield {\n",
              "    promise: Promise.race([pickedPromise, cancelPromise]),\n",
              "    response: {\n",
              "      action: 'starting',\n",
              "    }\n",
              "  };\n",
              "\n",
              "  cancel.remove();\n",
              "\n",
              "  // Disable the input element since further picks are not allowed.\n",
              "  inputElement.disabled = true;\n",
              "\n",
              "  if (!files) {\n",
              "    return {\n",
              "      response: {\n",
              "        action: 'complete',\n",
              "      }\n",
              "    };\n",
              "  }\n",
              "\n",
              "  for (const file of files) {\n",
              "    const li = document.createElement('li');\n",
              "    li.append(span(file.name, {fontWeight: 'bold'}));\n",
              "    li.append(span(\n",
              "        `(${file.type || 'n/a'}) - ${file.size} bytes, ` +\n",
              "        `last modified: ${\n",
              "            file.lastModifiedDate ? file.lastModifiedDate.toLocaleDateString() :\n",
              "                                    'n/a'} - `));\n",
              "    const percent = span('0% done');\n",
              "    li.appendChild(percent);\n",
              "\n",
              "    outputElement.appendChild(li);\n",
              "\n",
              "    const fileDataPromise = new Promise((resolve) => {\n",
              "      const reader = new FileReader();\n",
              "      reader.onload = (e) => {\n",
              "        resolve(e.target.result);\n",
              "      };\n",
              "      reader.readAsArrayBuffer(file);\n",
              "    });\n",
              "    // Wait for the data to be ready.\n",
              "    let fileData = yield {\n",
              "      promise: fileDataPromise,\n",
              "      response: {\n",
              "        action: 'continue',\n",
              "      }\n",
              "    };\n",
              "\n",
              "    // Use a chunked sending to avoid message size limits. See b/62115660.\n",
              "    let position = 0;\n",
              "    do {\n",
              "      const length = Math.min(fileData.byteLength - position, MAX_PAYLOAD_SIZE);\n",
              "      const chunk = new Uint8Array(fileData, position, length);\n",
              "      position += length;\n",
              "\n",
              "      const base64 = btoa(String.fromCharCode.apply(null, chunk));\n",
              "      yield {\n",
              "        response: {\n",
              "          action: 'append',\n",
              "          file: file.name,\n",
              "          data: base64,\n",
              "        },\n",
              "      };\n",
              "\n",
              "      let percentDone = fileData.byteLength === 0 ?\n",
              "          100 :\n",
              "          Math.round((position / fileData.byteLength) * 100);\n",
              "      percent.textContent = `${percentDone}% done`;\n",
              "\n",
              "    } while (position < fileData.byteLength);\n",
              "  }\n",
              "\n",
              "  // All done.\n",
              "  yield {\n",
              "    response: {\n",
              "      action: 'complete',\n",
              "    }\n",
              "  };\n",
              "}\n",
              "\n",
              "scope.google = scope.google || {};\n",
              "scope.google.colab = scope.google.colab || {};\n",
              "scope.google.colab._files = {\n",
              "  _uploadFiles,\n",
              "  _uploadFilesContinue,\n",
              "};\n",
              "})(self);\n",
              "</script> "
            ]
          },
          "metadata": {}
        },
        {
          "output_type": "stream",
          "name": "stdout",
          "text": [
            "Saving Admission_Predict.csv to Admission_Predict.csv\n"
          ]
        },
        {
          "output_type": "execute_result",
          "data": {
            "text/plain": [
              "{'Admission_Predict.csv': b'Serial No.,GRE Score,TOEFL Score,University Rating,SOP,LOR ,CGPA,Research,Chance of Admit \\r\\n1,337,118,4,4.5,4.5,9.65,1,0.92\\r\\n2,324,107,4,4,4.5,8.87,1,0.76\\r\\n3,316,104,3,3,3.5,8,1,0.72\\r\\n4,322,110,3,3.5,2.5,8.67,1,0.8\\r\\n5,314,103,2,2,3,8.21,0,0.65\\r\\n6,330,115,5,4.5,3,9.34,1,0.9\\r\\n7,321,109,3,3,4,8.2,1,0.75\\r\\n8,308,101,2,3,4,7.9,0,0.68\\r\\n9,302,102,1,2,1.5,8,0,0.5\\r\\n10,323,108,3,3.5,3,8.6,0,0.45\\r\\n11,325,106,3,3.5,4,8.4,1,0.52\\r\\n12,327,111,4,4,4.5,9,1,0.84\\r\\n13,328,112,4,4,4.5,9.1,1,0.78\\r\\n14,307,109,3,4,3,8,1,0.62\\r\\n15,311,104,3,3.5,2,8.2,1,0.61\\r\\n16,314,105,3,3.5,2.5,8.3,0,0.54\\r\\n17,317,107,3,4,3,8.7,0,0.66\\r\\n18,319,106,3,4,3,8,1,0.65\\r\\n19,318,110,3,4,3,8.8,0,0.63\\r\\n20,303,102,3,3.5,3,8.5,0,0.62\\r\\n21,312,107,3,3,2,7.9,1,0.64\\r\\n22,325,114,4,3,2,8.4,0,0.7\\r\\n23,328,116,5,5,5,9.5,1,0.94\\r\\n24,334,119,5,5,4.5,9.7,1,0.95\\r\\n25,336,119,5,4,3.5,9.8,1,0.97\\r\\n26,340,120,5,4.5,4.5,9.6,1,0.94\\r\\n27,322,109,5,4.5,3.5,8.8,0,0.76\\r\\n28,298,98,2,1.5,2.5,7.5,1,0.44\\r\\n29,295,93,1,2,2,7.2,0,0.46\\r\\n30,310,99,2,1.5,2,7.3,0,0.54\\r\\n31,300,97,2,3,3,8.1,1,0.65\\r\\n32,327,103,3,4,4,8.3,1,0.74\\r\\n33,338,118,4,3,4.5,9.4,1,0.91\\r\\n34,340,114,5,4,4,9.6,1,0.9\\r\\n35,331,112,5,4,5,9.8,1,0.94\\r\\n36,320,110,5,5,5,9.2,1,0.88\\r\\n37,299,106,2,4,4,8.4,0,0.64\\r\\n38,300,105,1,1,2,7.8,0,0.58\\r\\n39,304,105,1,3,1.5,7.5,0,0.52\\r\\n40,307,108,2,4,3.5,7.7,0,0.48\\r\\n41,308,110,3,3.5,3,8,1,0.46\\r\\n42,316,105,2,2.5,2.5,8.2,1,0.49\\r\\n43,313,107,2,2.5,2,8.5,1,0.53\\r\\n44,332,117,4,4.5,4,9.1,0,0.87\\r\\n45,326,113,5,4.5,4,9.4,1,0.91\\r\\n46,322,110,5,5,4,9.1,1,0.88\\r\\n47,329,114,5,4,5,9.3,1,0.86\\r\\n48,339,119,5,4.5,4,9.7,0,0.89\\r\\n49,321,110,3,3.5,5,8.85,1,0.82\\r\\n50,327,111,4,3,4,8.4,1,0.78\\r\\n51,313,98,3,2.5,4.5,8.3,1,0.76\\r\\n52,312,100,2,1.5,3.5,7.9,1,0.56\\r\\n53,334,116,4,4,3,8,1,0.78\\r\\n54,324,112,4,4,2.5,8.1,1,0.72\\r\\n55,322,110,3,3,3.5,8,0,0.7\\r\\n56,320,103,3,3,3,7.7,0,0.64\\r\\n57,316,102,3,2,3,7.4,0,0.64\\r\\n58,298,99,2,4,2,7.6,0,0.46\\r\\n59,300,99,1,3,2,6.8,1,0.36\\r\\n60,311,104,2,2,2,8.3,0,0.42\\r\\n61,309,100,2,3,3,8.1,0,0.48\\r\\n62,307,101,3,4,3,8.2,0,0.47\\r\\n63,304,105,2,3,3,8.2,1,0.54\\r\\n64,315,107,2,4,3,8.5,1,0.56\\r\\n65,325,111,3,3,3.5,8.7,0,0.52\\r\\n66,325,112,4,3.5,3.5,8.92,0,0.55\\r\\n67,327,114,3,3,3,9.02,0,0.61\\r\\n68,316,107,2,3.5,3.5,8.64,1,0.57\\r\\n69,318,109,3,3.5,4,9.22,1,0.68\\r\\n70,328,115,4,4.5,4,9.16,1,0.78\\r\\n71,332,118,5,5,5,9.64,1,0.94\\r\\n72,336,112,5,5,5,9.76,1,0.96\\r\\n73,321,111,5,5,5,9.45,1,0.93\\r\\n74,314,108,4,4.5,4,9.04,1,0.84\\r\\n75,314,106,3,3,5,8.9,0,0.74\\r\\n76,329,114,2,2,4,8.56,1,0.72\\r\\n77,327,112,3,3,3,8.72,1,0.74\\r\\n78,301,99,2,3,2,8.22,0,0.64\\r\\n79,296,95,2,3,2,7.54,1,0.44\\r\\n80,294,93,1,1.5,2,7.36,0,0.46\\r\\n81,312,105,3,2,3,8.02,1,0.5\\r\\n82,340,120,4,5,5,9.5,1,0.96\\r\\n83,320,110,5,5,4.5,9.22,1,0.92\\r\\n84,322,115,5,4,4.5,9.36,1,0.92\\r\\n85,340,115,5,4.5,4.5,9.45,1,0.94\\r\\n86,319,103,4,4.5,3.5,8.66,0,0.76\\r\\n87,315,106,3,4.5,3.5,8.42,0,0.72\\r\\n88,317,107,2,3.5,3,8.28,0,0.66\\r\\n89,314,108,3,4.5,3.5,8.14,0,0.64\\r\\n90,316,109,4,4.5,3.5,8.76,1,0.74\\r\\n91,318,106,2,4,4,7.92,1,0.64\\r\\n92,299,97,3,5,3.5,7.66,0,0.38\\r\\n93,298,98,2,4,3,8.03,0,0.34\\r\\n94,301,97,2,3,3,7.88,1,0.44\\r\\n95,303,99,3,2,2.5,7.66,0,0.36\\r\\n96,304,100,4,1.5,2.5,7.84,0,0.42\\r\\n97,306,100,2,3,3,8,0,0.48\\r\\n98,331,120,3,4,4,8.96,1,0.86\\r\\n99,332,119,4,5,4.5,9.24,1,0.9\\r\\n100,323,113,3,4,4,8.88,1,0.79\\r\\n101,322,107,3,3.5,3.5,8.46,1,0.71\\r\\n102,312,105,2,2.5,3,8.12,0,0.64\\r\\n103,314,106,2,4,3.5,8.25,0,0.62\\r\\n104,317,104,2,4.5,4,8.47,0,0.57\\r\\n105,326,112,3,3.5,3,9.05,1,0.74\\r\\n106,316,110,3,4,4.5,8.78,1,0.69\\r\\n107,329,111,4,4.5,4.5,9.18,1,0.87\\r\\n108,338,117,4,3.5,4.5,9.46,1,0.91\\r\\n109,331,116,5,5,5,9.38,1,0.93\\r\\n110,304,103,5,5,4,8.64,0,0.68\\r\\n111,305,108,5,3,3,8.48,0,0.61\\r\\n112,321,109,4,4,4,8.68,1,0.69\\r\\n113,301,107,3,3.5,3.5,8.34,1,0.62\\r\\n114,320,110,2,4,3.5,8.56,0,0.72\\r\\n115,311,105,3,3.5,3,8.45,1,0.59\\r\\n116,310,106,4,4.5,4.5,9.04,1,0.66\\r\\n117,299,102,3,4,3.5,8.62,0,0.56\\r\\n118,290,104,4,2,2.5,7.46,0,0.45\\r\\n119,296,99,2,3,3.5,7.28,0,0.47\\r\\n120,327,104,5,3,3.5,8.84,1,0.71\\r\\n121,335,117,5,5,5,9.56,1,0.94\\r\\n122,334,119,5,4.5,4.5,9.48,1,0.94\\r\\n123,310,106,4,1.5,2.5,8.36,0,0.57\\r\\n124,308,108,3,3.5,3.5,8.22,0,0.61\\r\\n125,301,106,4,2.5,3,8.47,0,0.57\\r\\n126,300,100,3,2,3,8.66,1,0.64\\r\\n127,323,113,3,4,3,9.32,1,0.85\\r\\n128,319,112,3,2.5,2,8.71,1,0.78\\r\\n129,326,112,3,3.5,3,9.1,1,0.84\\r\\n130,333,118,5,5,5,9.35,1,0.92\\r\\n131,339,114,5,4,4.5,9.76,1,0.96\\r\\n132,303,105,5,5,4.5,8.65,0,0.77\\r\\n133,309,105,5,3.5,3.5,8.56,0,0.71\\r\\n134,323,112,5,4,4.5,8.78,0,0.79\\r\\n135,333,113,5,4,4,9.28,1,0.89\\r\\n136,314,109,4,3.5,4,8.77,1,0.82\\r\\n137,312,103,3,5,4,8.45,0,0.76\\r\\n138,316,100,2,1.5,3,8.16,1,0.71\\r\\n139,326,116,2,4.5,3,9.08,1,0.8\\r\\n140,318,109,1,3.5,3.5,9.12,0,0.78\\r\\n141,329,110,2,4,3,9.15,1,0.84\\r\\n142,332,118,2,4.5,3.5,9.36,1,0.9\\r\\n143,331,115,5,4,3.5,9.44,1,0.92\\r\\n144,340,120,4,4.5,4,9.92,1,0.97\\r\\n145,325,112,2,3,3.5,8.96,1,0.8\\r\\n146,320,113,2,2,2.5,8.64,1,0.81\\r\\n147,315,105,3,2,2.5,8.48,0,0.75\\r\\n148,326,114,3,3,3,9.11,1,0.83\\r\\n149,339,116,4,4,3.5,9.8,1,0.96\\r\\n150,311,106,2,3.5,3,8.26,1,0.79\\r\\n151,334,114,4,4,4,9.43,1,0.93\\r\\n152,332,116,5,5,5,9.28,1,0.94\\r\\n153,321,112,5,5,5,9.06,1,0.86\\r\\n154,324,105,3,3,4,8.75,0,0.79\\r\\n155,326,108,3,3,3.5,8.89,0,0.8\\r\\n156,312,109,3,3,3,8.69,0,0.77\\r\\n157,315,105,3,2,2.5,8.34,0,0.7\\r\\n158,309,104,2,2,2.5,8.26,0,0.65\\r\\n159,306,106,2,2,2.5,8.14,0,0.61\\r\\n160,297,100,1,1.5,2,7.9,0,0.52\\r\\n161,315,103,1,1.5,2,7.86,0,0.57\\r\\n162,298,99,1,1.5,3,7.46,0,0.53\\r\\n163,318,109,3,3,3,8.5,0,0.67\\r\\n164,317,105,3,3.5,3,8.56,0,0.68\\r\\n165,329,111,4,4.5,4,9.01,1,0.81\\r\\n166,322,110,5,4.5,4,8.97,0,0.78\\r\\n167,302,102,3,3.5,5,8.33,0,0.65\\r\\n168,313,102,3,2,3,8.27,0,0.64\\r\\n169,293,97,2,2,4,7.8,1,0.64\\r\\n170,311,99,2,2.5,3,7.98,0,0.65\\r\\n171,312,101,2,2.5,3.5,8.04,1,0.68\\r\\n172,334,117,5,4,4.5,9.07,1,0.89\\r\\n173,322,110,4,4,5,9.13,1,0.86\\r\\n174,323,113,4,4,4.5,9.23,1,0.89\\r\\n175,321,111,4,4,4,8.97,1,0.87\\r\\n176,320,111,4,4.5,3.5,8.87,1,0.85\\r\\n177,329,119,4,4.5,4.5,9.16,1,0.9\\r\\n178,319,110,3,3.5,3.5,9.04,0,0.82\\r\\n179,309,108,3,2.5,3,8.12,0,0.72\\r\\n180,307,102,3,3,3,8.27,0,0.73\\r\\n181,300,104,3,3.5,3,8.16,0,0.71\\r\\n182,305,107,2,2.5,2.5,8.42,0,0.71\\r\\n183,299,100,2,3,3.5,7.88,0,0.68\\r\\n184,314,110,3,4,4,8.8,0,0.75\\r\\n185,316,106,2,2.5,4,8.32,0,0.72\\r\\n186,327,113,4,4.5,4.5,9.11,1,0.89\\r\\n187,317,107,3,3.5,3,8.68,1,0.84\\r\\n188,335,118,5,4.5,3.5,9.44,1,0.93\\r\\n189,331,115,5,4.5,3.5,9.36,1,0.93\\r\\n190,324,112,5,5,5,9.08,1,0.88\\r\\n191,324,111,5,4.5,4,9.16,1,0.9\\r\\n192,323,110,5,4,5,8.98,1,0.87\\r\\n193,322,114,5,4.5,4,8.94,1,0.86\\r\\n194,336,118,5,4.5,5,9.53,1,0.94\\r\\n195,316,109,3,3.5,3,8.76,0,0.77\\r\\n196,307,107,2,3,3.5,8.52,1,0.78\\r\\n197,306,105,2,3,2.5,8.26,0,0.73\\r\\n198,310,106,2,3.5,2.5,8.33,0,0.73\\r\\n199,311,104,3,4.5,4.5,8.43,0,0.7\\r\\n200,313,107,3,4,4.5,8.69,0,0.72\\r\\n201,317,103,3,2.5,3,8.54,1,0.73\\r\\n202,315,110,2,3.5,3,8.46,1,0.72\\r\\n203,340,120,5,4.5,4.5,9.91,1,0.97\\r\\n204,334,120,5,4,5,9.87,1,0.97\\r\\n205,298,105,3,3.5,4,8.54,0,0.69\\r\\n206,295,99,2,2.5,3,7.65,0,0.57\\r\\n207,315,99,2,3.5,3,7.89,0,0.63\\r\\n208,310,102,3,3.5,4,8.02,1,0.66\\r\\n209,305,106,2,3,3,8.16,0,0.64\\r\\n210,301,104,3,3.5,4,8.12,1,0.68\\r\\n211,325,108,4,4.5,4,9.06,1,0.79\\r\\n212,328,110,4,5,4,9.14,1,0.82\\r\\n213,338,120,4,5,5,9.66,1,0.95\\r\\n214,333,119,5,5,4.5,9.78,1,0.96\\r\\n215,331,117,4,4.5,5,9.42,1,0.94\\r\\n216,330,116,5,5,4.5,9.36,1,0.93\\r\\n217,322,112,4,4.5,4.5,9.26,1,0.91\\r\\n218,321,109,4,4,4,9.13,1,0.85\\r\\n219,324,110,4,3,3.5,8.97,1,0.84\\r\\n220,312,104,3,3.5,3.5,8.42,0,0.74\\r\\n221,313,103,3,4,4,8.75,0,0.76\\r\\n222,316,110,3,3.5,4,8.56,0,0.75\\r\\n223,324,113,4,4.5,4,8.79,0,0.76\\r\\n224,308,109,2,3,4,8.45,0,0.71\\r\\n225,305,105,2,3,2,8.23,0,0.67\\r\\n226,296,99,2,2.5,2.5,8.03,0,0.61\\r\\n227,306,110,2,3.5,4,8.45,0,0.63\\r\\n228,312,110,2,3.5,3,8.53,0,0.64\\r\\n229,318,112,3,4,3.5,8.67,0,0.71\\r\\n230,324,111,4,3,3,9.01,1,0.82\\r\\n231,313,104,3,4,4.5,8.65,0,0.73\\r\\n232,319,106,3,3.5,2.5,8.33,1,0.74\\r\\n233,312,107,2,2.5,3.5,8.27,0,0.69\\r\\n234,304,100,2,2.5,3.5,8.07,0,0.64\\r\\n235,330,113,5,5,4,9.31,1,0.91\\r\\n236,326,111,5,4.5,4,9.23,1,0.88\\r\\n237,325,112,4,4,4.5,9.17,1,0.85\\r\\n238,329,114,5,4.5,5,9.19,1,0.86\\r\\n239,310,104,3,2,3.5,8.37,0,0.7\\r\\n240,299,100,1,1.5,2,7.89,0,0.59\\r\\n241,296,101,1,2.5,3,7.68,0,0.6\\r\\n242,317,103,2,2.5,2,8.15,0,0.65\\r\\n243,324,115,3,3.5,3,8.76,1,0.7\\r\\n244,325,114,3,3.5,3,9.04,1,0.76\\r\\n245,314,107,2,2.5,4,8.56,0,0.63\\r\\n246,328,110,4,4,2.5,9.02,1,0.81\\r\\n247,316,105,3,3,3.5,8.73,0,0.72\\r\\n248,311,104,2,2.5,3.5,8.48,0,0.71\\r\\n249,324,110,3,3.5,4,8.87,1,0.8\\r\\n250,321,111,3,3.5,4,8.83,1,0.77\\r\\n251,320,104,3,3,2.5,8.57,1,0.74\\r\\n252,316,99,2,2.5,3,9,0,0.7\\r\\n253,318,100,2,2.5,3.5,8.54,1,0.71\\r\\n254,335,115,4,4.5,4.5,9.68,1,0.93\\r\\n255,321,114,4,4,5,9.12,0,0.85\\r\\n256,307,110,4,4,4.5,8.37,0,0.79\\r\\n257,309,99,3,4,4,8.56,0,0.76\\r\\n258,324,100,3,4,5,8.64,1,0.78\\r\\n259,326,102,4,5,5,8.76,1,0.77\\r\\n260,331,119,4,5,4.5,9.34,1,0.9\\r\\n261,327,108,5,5,3.5,9.13,1,0.87\\r\\n262,312,104,3,3.5,4,8.09,0,0.71\\r\\n263,308,103,2,2.5,4,8.36,1,0.7\\r\\n264,324,111,3,2.5,1.5,8.79,1,0.7\\r\\n265,325,110,2,3,2.5,8.76,1,0.75\\r\\n266,313,102,3,2.5,2.5,8.68,0,0.71\\r\\n267,312,105,2,2,2.5,8.45,0,0.72\\r\\n268,314,107,3,3,3.5,8.17,1,0.73\\r\\n269,327,113,4,4.5,5,9.14,0,0.83\\r\\n270,308,108,4,4.5,5,8.34,0,0.77\\r\\n271,306,105,2,2.5,3,8.22,1,0.72\\r\\n272,299,96,2,1.5,2,7.86,0,0.54\\r\\n273,294,95,1,1.5,1.5,7.64,0,0.49\\r\\n274,312,99,1,1,1.5,8.01,1,0.52\\r\\n275,315,100,1,2,2.5,7.95,0,0.58\\r\\n276,322,110,3,3.5,3,8.96,1,0.78\\r\\n277,329,113,5,5,4.5,9.45,1,0.89\\r\\n278,320,101,2,2.5,3,8.62,0,0.7\\r\\n279,308,103,2,3,3.5,8.49,0,0.66\\r\\n280,304,102,2,3,4,8.73,0,0.67\\r\\n281,311,102,3,4.5,4,8.64,1,0.68\\r\\n282,317,110,3,4,4.5,9.11,1,0.8\\r\\n283,312,106,3,4,3.5,8.79,1,0.81\\r\\n284,321,111,3,2.5,3,8.9,1,0.8\\r\\n285,340,112,4,5,4.5,9.66,1,0.94\\r\\n286,331,116,5,4,4,9.26,1,0.93\\r\\n287,336,118,5,4.5,4,9.19,1,0.92\\r\\n288,324,114,5,5,4.5,9.08,1,0.89\\r\\n289,314,104,4,5,5,9.02,0,0.82\\r\\n290,313,109,3,4,3.5,9,0,0.79\\r\\n291,307,105,2,2.5,3,7.65,0,0.58\\r\\n292,300,102,2,1.5,2,7.87,0,0.56\\r\\n293,302,99,2,1,2,7.97,0,0.56\\r\\n294,312,98,1,3.5,3,8.18,1,0.64\\r\\n295,316,101,2,2.5,2,8.32,1,0.61\\r\\n296,317,100,2,3,2.5,8.57,0,0.68\\r\\n297,310,107,3,3.5,3.5,8.67,0,0.76\\r\\n298,320,120,3,4,4.5,9.11,0,0.86\\r\\n299,330,114,3,4.5,4.5,9.24,1,0.9\\r\\n300,305,112,3,3,3.5,8.65,0,0.71\\r\\n301,309,106,2,2.5,2.5,8,0,0.62\\r\\n302,319,108,2,2.5,3,8.76,0,0.66\\r\\n303,322,105,2,3,3,8.45,1,0.65\\r\\n304,323,107,3,3.5,3.5,8.55,1,0.73\\r\\n305,313,106,2,2.5,2,8.43,0,0.62\\r\\n306,321,109,3,3.5,3.5,8.8,1,0.74\\r\\n307,323,110,3,4,3.5,9.1,1,0.79\\r\\n308,325,112,4,4,4,9,1,0.8\\r\\n309,312,108,3,3.5,3,8.53,0,0.69\\r\\n310,308,110,4,3.5,3,8.6,0,0.7\\r\\n311,320,104,3,3,3.5,8.74,1,0.76\\r\\n312,328,108,4,4.5,4,9.18,1,0.84\\r\\n313,311,107,4,4.5,4.5,9,1,0.78\\r\\n314,301,100,3,3.5,3,8.04,0,0.67\\r\\n315,305,105,2,3,4,8.13,0,0.66\\r\\n316,308,104,2,2.5,3,8.07,0,0.65\\r\\n317,298,101,2,1.5,2,7.86,0,0.54\\r\\n318,300,99,1,1,2.5,8.01,0,0.58\\r\\n319,324,111,3,2.5,2,8.8,1,0.79\\r\\n320,327,113,4,3.5,3,8.69,1,0.8\\r\\n321,317,106,3,4,3.5,8.5,1,0.75\\r\\n322,323,104,3,4,4,8.44,1,0.73\\r\\n323,314,107,2,2.5,4,8.27,0,0.72\\r\\n324,305,102,2,2,2.5,8.18,0,0.62\\r\\n325,315,104,3,3,2.5,8.33,0,0.67\\r\\n326,326,116,3,3.5,4,9.14,1,0.81\\r\\n327,299,100,3,2,2,8.02,0,0.63\\r\\n328,295,101,2,2.5,2,7.86,0,0.69\\r\\n329,324,112,4,4,3.5,8.77,1,0.8\\r\\n330,297,96,2,2.5,1.5,7.89,0,0.43\\r\\n331,327,113,3,3.5,3,8.66,1,0.8\\r\\n332,311,105,2,3,2,8.12,1,0.73\\r\\n333,308,106,3,3.5,2.5,8.21,1,0.75\\r\\n334,319,108,3,3,3.5,8.54,1,0.71\\r\\n335,312,107,4,4.5,4,8.65,1,0.73\\r\\n336,325,111,4,4,4.5,9.11,1,0.83\\r\\n337,319,110,3,3,2.5,8.79,0,0.72\\r\\n338,332,118,5,5,5,9.47,1,0.94\\r\\n339,323,108,5,4,4,8.74,1,0.81\\r\\n340,324,107,5,3.5,4,8.66,1,0.81\\r\\n341,312,107,3,3,3,8.46,1,0.75\\r\\n342,326,110,3,3.5,3.5,8.76,1,0.79\\r\\n343,308,106,3,3,3,8.24,0,0.58\\r\\n344,305,103,2,2.5,3.5,8.13,0,0.59\\r\\n345,295,96,2,1.5,2,7.34,0,0.47\\r\\n346,316,98,1,1.5,2,7.43,0,0.49\\r\\n347,304,97,2,1.5,2,7.64,0,0.47\\r\\n348,299,94,1,1,1,7.34,0,0.42\\r\\n349,302,99,1,2,2,7.25,0,0.57\\r\\n350,313,101,3,2.5,3,8.04,0,0.62\\r\\n351,318,107,3,3,3.5,8.27,1,0.74\\r\\n352,325,110,4,3.5,4,8.67,1,0.73\\r\\n353,303,100,2,3,3.5,8.06,1,0.64\\r\\n354,300,102,3,3.5,2.5,8.17,0,0.63\\r\\n355,297,98,2,2.5,3,7.67,0,0.59\\r\\n356,317,106,2,2,3.5,8.12,0,0.73\\r\\n357,327,109,3,3.5,4,8.77,1,0.79\\r\\n358,301,104,2,3.5,3.5,7.89,1,0.68\\r\\n359,314,105,2,2.5,2,7.64,0,0.7\\r\\n360,321,107,2,2,1.5,8.44,0,0.81\\r\\n361,322,110,3,4,5,8.64,1,0.85\\r\\n362,334,116,4,4,3.5,9.54,1,0.93\\r\\n363,338,115,5,4.5,5,9.23,1,0.91\\r\\n364,306,103,2,2.5,3,8.36,0,0.69\\r\\n365,313,102,3,3.5,4,8.9,1,0.77\\r\\n366,330,114,4,4.5,3,9.17,1,0.86\\r\\n367,320,104,3,3.5,4.5,8.34,1,0.74\\r\\n368,311,98,1,1,2.5,7.46,0,0.57\\r\\n369,298,92,1,2,2,7.88,0,0.51\\r\\n370,301,98,1,2,3,8.03,1,0.67\\r\\n371,310,103,2,2.5,2.5,8.24,0,0.72\\r\\n372,324,110,3,3.5,3,9.22,1,0.89\\r\\n373,336,119,4,4.5,4,9.62,1,0.95\\r\\n374,321,109,3,3,3,8.54,1,0.79\\r\\n375,315,105,2,2,2.5,7.65,0,0.39\\r\\n376,304,101,2,2,2.5,7.66,0,0.38\\r\\n377,297,96,2,2.5,2,7.43,0,0.34\\r\\n378,290,100,1,1.5,2,7.56,0,0.47\\r\\n379,303,98,1,2,2.5,7.65,0,0.56\\r\\n380,311,99,1,2.5,3,8.43,1,0.71\\r\\n381,322,104,3,3.5,4,8.84,1,0.78\\r\\n382,319,105,3,3,3.5,8.67,1,0.73\\r\\n383,324,110,4,4.5,4,9.15,1,0.82\\r\\n384,300,100,3,3,3.5,8.26,0,0.62\\r\\n385,340,113,4,5,5,9.74,1,0.96\\r\\n386,335,117,5,5,5,9.82,1,0.96\\r\\n387,302,101,2,2.5,3.5,7.96,0,0.46\\r\\n388,307,105,2,2,3.5,8.1,0,0.53\\r\\n389,296,97,2,1.5,2,7.8,0,0.49\\r\\n390,320,108,3,3.5,4,8.44,1,0.76\\r\\n391,314,102,2,2,2.5,8.24,0,0.64\\r\\n392,318,106,3,2,3,8.65,0,0.71\\r\\n393,326,112,4,4,3.5,9.12,1,0.84\\r\\n394,317,104,2,3,3,8.76,0,0.77\\r\\n395,329,111,4,4.5,4,9.23,1,0.89\\r\\n396,324,110,3,3.5,3.5,9.04,1,0.82\\r\\n397,325,107,3,3,3.5,9.11,1,0.84\\r\\n398,330,116,4,5,4.5,9.45,1,0.91\\r\\n399,312,103,3,3.5,4,8.78,0,0.67\\r\\n400,333,117,4,5,4,9.66,1,0.95'}"
            ]
          },
          "metadata": {},
          "execution_count": 4
        }
      ]
    },
    {
      "cell_type": "code",
      "source": [
        "df = spark.read.csv('Admission_Predict.csv',inferSchema=True, header=True)"
      ],
      "metadata": {
        "id": "1ZtAeUO_-93G"
      },
      "execution_count": null,
      "outputs": []
    },
    {
      "cell_type": "code",
      "source": [
        "print((df.count(), len(df.columns)))\n",
        "df.columns"
      ],
      "metadata": {
        "colab": {
          "base_uri": "https://localhost:8080/"
        },
        "id": "mFXqEEeF_Ltc",
        "outputId": "ab7248fd-e30c-417b-ae87-b515d27960a2"
      },
      "execution_count": null,
      "outputs": [
        {
          "output_type": "stream",
          "name": "stdout",
          "text": [
            "(400, 9)\n"
          ]
        },
        {
          "output_type": "execute_result",
          "data": {
            "text/plain": [
              "['Serial No.',\n",
              " 'GRE Score',\n",
              " 'TOEFL Score',\n",
              " 'University Rating',\n",
              " 'SOP',\n",
              " 'LOR ',\n",
              " 'CGPA',\n",
              " 'Research',\n",
              " 'Chance of Admit ']"
            ]
          },
          "metadata": {},
          "execution_count": 6
        }
      ]
    },
    {
      "cell_type": "code",
      "source": [
        "df.printSchema()"
      ],
      "metadata": {
        "colab": {
          "base_uri": "https://localhost:8080/"
        },
        "id": "RGWOVm3B_Pu6",
        "outputId": "50c5411a-8150-4bd7-8382-383c2cd8cc31"
      },
      "execution_count": null,
      "outputs": [
        {
          "output_type": "stream",
          "name": "stdout",
          "text": [
            "root\n",
            " |-- Serial No.: integer (nullable = true)\n",
            " |-- GRE Score: integer (nullable = true)\n",
            " |-- TOEFL Score: integer (nullable = true)\n",
            " |-- University Rating: integer (nullable = true)\n",
            " |-- SOP: double (nullable = true)\n",
            " |-- LOR : double (nullable = true)\n",
            " |-- CGPA: double (nullable = true)\n",
            " |-- Research: integer (nullable = true)\n",
            " |-- Chance of Admit : double (nullable = true)\n",
            "\n"
          ]
        }
      ]
    },
    {
      "cell_type": "code",
      "source": [
        "df.describe().show()"
      ],
      "metadata": {
        "colab": {
          "base_uri": "https://localhost:8080/"
        },
        "id": "K4VBAlhm_S07",
        "outputId": "4f6992b9-1b1a-4e44-a9f4-b35ce05fc48d"
      },
      "execution_count": null,
      "outputs": [
        {
          "output_type": "stream",
          "name": "stdout",
          "text": [
            "+-------+------------------+------------------+-----------------+------------------+-----------------+------------------+------------------+-------------------+------------------+\n",
            "|summary|        Serial No.|         GRE Score|      TOEFL Score| University Rating|              SOP|              LOR |              CGPA|           Research|  Chance of Admit |\n",
            "+-------+------------------+------------------+-----------------+------------------+-----------------+------------------+------------------+-------------------+------------------+\n",
            "|  count|               400|               400|              400|               400|              400|               400|               400|                400|               400|\n",
            "|   mean|             200.5|          316.8075|           107.41|            3.0875|              3.4|            3.4525| 8.598924999999998|             0.5475|0.7243499999999996|\n",
            "| stddev|115.61430130683084|11.473646113500488|6.069513777374134|1.1437281298838986|1.006868641458697|0.8984775482792569|0.5963170964964315|0.49836197853983155|0.1426093301738409|\n",
            "|    min|                 1|               290|               92|                 1|              1.0|               1.0|               6.8|                  0|              0.34|\n",
            "|    max|               400|               340|              120|                 5|              5.0|               5.0|              9.92|                  1|              0.97|\n",
            "+-------+------------------+------------------+-----------------+------------------+-----------------+------------------+------------------+-------------------+------------------+\n",
            "\n"
          ]
        }
      ]
    },
    {
      "cell_type": "code",
      "source": [
        "df = df.drop('Serial No.')\n",
        "df.show()"
      ],
      "metadata": {
        "colab": {
          "base_uri": "https://localhost:8080/"
        },
        "id": "pwUMCCVO_YMG",
        "outputId": "755479d8-1edc-4aec-ec5d-13f963a2cdfa"
      },
      "execution_count": null,
      "outputs": [
        {
          "output_type": "stream",
          "name": "stdout",
          "text": [
            "+---------+-----------+-----------------+---+----+----+--------+----------------+\n",
            "|GRE Score|TOEFL Score|University Rating|SOP|LOR |CGPA|Research|Chance of Admit |\n",
            "+---------+-----------+-----------------+---+----+----+--------+----------------+\n",
            "|      337|        118|                4|4.5| 4.5|9.65|       1|            0.92|\n",
            "|      324|        107|                4|4.0| 4.5|8.87|       1|            0.76|\n",
            "|      316|        104|                3|3.0| 3.5| 8.0|       1|            0.72|\n",
            "|      322|        110|                3|3.5| 2.5|8.67|       1|             0.8|\n",
            "|      314|        103|                2|2.0| 3.0|8.21|       0|            0.65|\n",
            "|      330|        115|                5|4.5| 3.0|9.34|       1|             0.9|\n",
            "|      321|        109|                3|3.0| 4.0| 8.2|       1|            0.75|\n",
            "|      308|        101|                2|3.0| 4.0| 7.9|       0|            0.68|\n",
            "|      302|        102|                1|2.0| 1.5| 8.0|       0|             0.5|\n",
            "|      323|        108|                3|3.5| 3.0| 8.6|       0|            0.45|\n",
            "|      325|        106|                3|3.5| 4.0| 8.4|       1|            0.52|\n",
            "|      327|        111|                4|4.0| 4.5| 9.0|       1|            0.84|\n",
            "|      328|        112|                4|4.0| 4.5| 9.1|       1|            0.78|\n",
            "|      307|        109|                3|4.0| 3.0| 8.0|       1|            0.62|\n",
            "|      311|        104|                3|3.5| 2.0| 8.2|       1|            0.61|\n",
            "|      314|        105|                3|3.5| 2.5| 8.3|       0|            0.54|\n",
            "|      317|        107|                3|4.0| 3.0| 8.7|       0|            0.66|\n",
            "|      319|        106|                3|4.0| 3.0| 8.0|       1|            0.65|\n",
            "|      318|        110|                3|4.0| 3.0| 8.8|       0|            0.63|\n",
            "|      303|        102|                3|3.5| 3.0| 8.5|       0|            0.62|\n",
            "+---------+-----------+-----------------+---+----+----+--------+----------------+\n",
            "only showing top 20 rows\n",
            "\n"
          ]
        }
      ]
    },
    {
      "cell_type": "code",
      "source": [
        "for i in df.columns:\n",
        "    print(i+':',df[df[i].isNull()].count())"
      ],
      "metadata": {
        "colab": {
          "base_uri": "https://localhost:8080/"
        },
        "id": "LDGNiPLp_atf",
        "outputId": "90634f2a-775a-453a-d030-99d90618fc0a"
      },
      "execution_count": null,
      "outputs": [
        {
          "output_type": "stream",
          "name": "stdout",
          "text": [
            "GRE Score: 0\n",
            "TOEFL Score: 0\n",
            "University Rating: 0\n",
            "SOP: 0\n",
            "LOR : 0\n",
            "CGPA: 0\n",
            "Research: 0\n",
            "Chance of Admit : 0\n"
          ]
        }
      ]
    },
    {
      "cell_type": "code",
      "source": [
        "for col in df.columns:\n",
        "    print('Corellation to chance of admit col for {} is {}'.format(\n",
        "          col, df.stat.corr('Chance of Admit ',col)))"
      ],
      "metadata": {
        "colab": {
          "base_uri": "https://localhost:8080/"
        },
        "id": "2I72KyL-_dmT",
        "outputId": "d7680a05-bdfb-4b42-8612-f524a81b9e73"
      },
      "execution_count": null,
      "outputs": [
        {
          "output_type": "stream",
          "name": "stdout",
          "text": [
            "Corellation to chance of admit col for GRE Score is 0.8026104595903502\n",
            "Corellation to chance of admit col for TOEFL Score is 0.7915939869351041\n",
            "Corellation to chance of admit col for University Rating is 0.7112502503917226\n",
            "Corellation to chance of admit col for SOP is 0.6757318583886724\n",
            "Corellation to chance of admit col for LOR  is 0.6698887920106943\n",
            "Corellation to chance of admit col for CGPA is 0.8732890993553003\n",
            "Corellation to chance of admit col for Research is 0.5532021370190405\n",
            "Corellation to chance of admit col for Chance of Admit  is 1.0\n"
          ]
        }
      ]
    },
    {
      "cell_type": "code",
      "source": [
        "import seaborn as sns\n",
        "import matplotlib.pyplot as plt\n",
        "\n",
        "from pyspark.sql.types import *\n",
        "import pyspark.sql.functions as F\n",
        "from pyspark.sql.functions import udf, col"
      ],
      "metadata": {
        "id": "2wLSDUYNBGjK"
      },
      "execution_count": null,
      "outputs": []
    },
    {
      "cell_type": "code",
      "source": [
        "df.show(5)"
      ],
      "metadata": {
        "colab": {
          "base_uri": "https://localhost:8080/"
        },
        "id": "6Z6b33BuBL4n",
        "outputId": "8e8edbfd-2114-4cbd-96d9-82a7c584aca9"
      },
      "execution_count": null,
      "outputs": [
        {
          "output_type": "stream",
          "name": "stdout",
          "text": [
            "+---------+-----------+-----------------+---+----+----+--------+----------------+\n",
            "|GRE Score|TOEFL Score|University Rating|SOP|LOR |CGPA|Research|Chance of Admit |\n",
            "+---------+-----------+-----------------+---+----+----+--------+----------------+\n",
            "|      337|        118|                4|4.5| 4.5|9.65|       1|            0.92|\n",
            "|      324|        107|                4|4.0| 4.5|8.87|       1|            0.76|\n",
            "|      316|        104|                3|3.0| 3.5| 8.0|       1|            0.72|\n",
            "|      322|        110|                3|3.5| 2.5|8.67|       1|             0.8|\n",
            "|      314|        103|                2|2.0| 3.0|8.21|       0|            0.65|\n",
            "+---------+-----------+-----------------+---+----+----+--------+----------------+\n",
            "only showing top 5 rows\n",
            "\n"
          ]
        }
      ]
    },
    {
      "cell_type": "code",
      "source": [
        "sns.histplot(df.select('CGPA').toPandas(), bins = 10)"
      ],
      "metadata": {
        "colab": {
          "base_uri": "https://localhost:8080/",
          "height": 283
        },
        "id": "qLh2ffuYBAI3",
        "outputId": "af0493c6-177a-44bc-bcbd-0ba5e68d66bd"
      },
      "execution_count": null,
      "outputs": [
        {
          "output_type": "execute_result",
          "data": {
            "text/plain": [
              "<matplotlib.axes._subplots.AxesSubplot at 0x7f7f506243a0>"
            ]
          },
          "metadata": {},
          "execution_count": 21
        },
        {
          "output_type": "display_data",
          "data": {
            "text/plain": [
              "<Figure size 432x288 with 1 Axes>"
            ],
            "image/png": "[encoded data removed]"
          },
          "metadata": {
            "needs_background": "light"
          }
        }
      ]
    },
    {
      "cell_type": "code",
      "source": [
        "df_income = df.groupby('University Rating').agg({'CGPA' : 'avg'})\n",
        "df_pandas_income = df_income.toPandas()\n",
        "sns.barplot(x = df_pandas_income['University Rating'], y = df_pandas_income['avg(CGPA)'])"
      ],
      "metadata": {
        "colab": {
          "base_uri": "https://localhost:8080/",
          "height": 297
        },
        "id": "evhVs0wmBlfV",
        "outputId": "f8996b46-a88a-4e23-e0f1-c3482df50c45"
      },
      "execution_count": null,
      "outputs": [
        {
          "output_type": "execute_result",
          "data": {
            "text/plain": [
              "<matplotlib.axes._subplots.AxesSubplot at 0x7f7f4f891250>"
            ]
          },
          "metadata": {},
          "execution_count": 25
        },
        {
          "output_type": "display_data",
          "data": {
            "text/plain": [
              "<Figure size 432x288 with 1 Axes>"
            ],
            "image/png": "[encoded data removed]"
          },
          "metadata": {
            "needs_background": "light"
          }
        }
      ]
    },
    {
      "cell_type": "code",
      "source": [
        "#Checking normal distribution of selected fetures\n",
        "#GRE Score\n",
        "\n",
        "sns.distplot(df.select('GRE Score').toPandas(), color=\"green\")\n",
        "df.select(F.skewness('GRE Score'), F.kurtosis('GRE Score')).show()"
      ],
      "metadata": {
        "colab": {
          "base_uri": "https://localhost:8080/",
          "height": 431
        },
        "id": "ylLA_-7fCh_G",
        "outputId": "bd780431-911d-4364-8e19-266b37b81561"
      },
      "execution_count": null,
      "outputs": [
        {
          "output_type": "stream",
          "name": "stderr",
          "text": [
            "/usr/local/lib/python3.8/dist-packages/seaborn/distributions.py:2619: FutureWarning: `distplot` is a deprecated function and will be removed in a future version. Please adapt your code to use either `displot` (a figure-level function with similar flexibility) or `histplot` (an axes-level function for histograms).\n",
            "  warnings.warn(msg, FutureWarning)\n"
          ]
        },
        {
          "output_type": "stream",
          "name": "stdout",
          "text": [
            "+---------------------+---------------------+\n",
            "|skewness(TOEFL Score)|kurtosis(TOEFL Score)|\n",
            "+---------------------+---------------------+\n",
            "|  0.05700113013049667|  -0.5865315512887341|\n",
            "+---------------------+---------------------+\n",
            "\n"
          ]
        },
        {
          "output_type": "display_data",
          "data": {
            "text/plain": [
              "<Figure size 432x288 with 1 Axes>"
            ],
            "image/png": "[encoded data removed]"
          },
          "metadata": {
            "needs_background": "light"
          }
        }
      ]
    },
    {
      "cell_type": "code",
      "source": [
        "grescore = df.groupBy(\"GRE Score\").count().sort(\"GRE Score\", ascending= True)\n",
        "grescore.toPandas().plot.bar(x='GRE Score',figsize=(20, 6))"
      ],
      "metadata": {
        "colab": {
          "base_uri": "https://localhost:8080/",
          "height": 415
        },
        "id": "C4eakAtKET-e",
        "outputId": "dc5c8922-4715-43e0-f155-06a7729097c4"
      },
      "execution_count": null,
      "outputs": [
        {
          "output_type": "execute_result",
          "data": {
            "text/plain": [
              "<matplotlib.axes._subplots.AxesSubplot at 0x7f7f4d6f58b0>"
            ]
          },
          "metadata": {},
          "execution_count": 47
        },
        {
          "output_type": "display_data",
          "data": {
            "text/plain": [
              "<Figure size 1440x432 with 1 Axes>"
            ],
            "image/png": "[encoded data removed]"
          },
          "metadata": {
            "needs_background": "light"
          }
        }
      ]
    },
    {
      "cell_type": "code",
      "source": [],
      "metadata": {
        "id": "yE6UcLy_Cdqg"
      },
      "execution_count": null,
      "outputs": []
    },
    {
      "cell_type": "code",
      "source": [
        "from pyspark.ml.feature import VectorAssembler\n",
        "\n",
        "assembler = VectorAssembler(inputCols=['GRE Score','TOEFL Score','CGPA'],\n",
        "                            outputCol='features')\n",
        "\n",
        "# display dataframe\n",
        "output_data = assembler.transform(df)\n",
        "output_data.show()"
      ],
      "metadata": {
        "colab": {
          "base_uri": "https://localhost:8080/"
        },
        "id": "u0KpmxfN_gZN",
        "outputId": "ff99b705-cd6f-4c54-92f5-4b489ed032f8"
      },
      "execution_count": null,
      "outputs": [
        {
          "output_type": "stream",
          "name": "stdout",
          "text": [
            "+---------+-----------+-----------------+---+----+----+--------+----------------+------------------+\n",
            "|GRE Score|TOEFL Score|University Rating|SOP|LOR |CGPA|Research|Chance of Admit |          features|\n",
            "+---------+-----------+-----------------+---+----+----+--------+----------------+------------------+\n",
            "|      337|        118|                4|4.5| 4.5|9.65|       1|            0.92|[337.0,118.0,9.65]|\n",
            "|      324|        107|                4|4.0| 4.5|8.87|       1|            0.76|[324.0,107.0,8.87]|\n",
            "|      316|        104|                3|3.0| 3.5| 8.0|       1|            0.72| [316.0,104.0,8.0]|\n",
            "|      322|        110|                3|3.5| 2.5|8.67|       1|             0.8|[322.0,110.0,8.67]|\n",
            "|      314|        103|                2|2.0| 3.0|8.21|       0|            0.65|[314.0,103.0,8.21]|\n",
            "|      330|        115|                5|4.5| 3.0|9.34|       1|             0.9|[330.0,115.0,9.34]|\n",
            "|      321|        109|                3|3.0| 4.0| 8.2|       1|            0.75| [321.0,109.0,8.2]|\n",
            "|      308|        101|                2|3.0| 4.0| 7.9|       0|            0.68| [308.0,101.0,7.9]|\n",
            "|      302|        102|                1|2.0| 1.5| 8.0|       0|             0.5| [302.0,102.0,8.0]|\n",
            "|      323|        108|                3|3.5| 3.0| 8.6|       0|            0.45| [323.0,108.0,8.6]|\n",
            "|      325|        106|                3|3.5| 4.0| 8.4|       1|            0.52| [325.0,106.0,8.4]|\n",
            "|      327|        111|                4|4.0| 4.5| 9.0|       1|            0.84| [327.0,111.0,9.0]|\n",
            "|      328|        112|                4|4.0| 4.5| 9.1|       1|            0.78| [328.0,112.0,9.1]|\n",
            "|      307|        109|                3|4.0| 3.0| 8.0|       1|            0.62| [307.0,109.0,8.0]|\n",
            "|      311|        104|                3|3.5| 2.0| 8.2|       1|            0.61| [311.0,104.0,8.2]|\n",
            "|      314|        105|                3|3.5| 2.5| 8.3|       0|            0.54| [314.0,105.0,8.3]|\n",
            "|      317|        107|                3|4.0| 3.0| 8.7|       0|            0.66| [317.0,107.0,8.7]|\n",
            "|      319|        106|                3|4.0| 3.0| 8.0|       1|            0.65| [319.0,106.0,8.0]|\n",
            "|      318|        110|                3|4.0| 3.0| 8.8|       0|            0.63| [318.0,110.0,8.8]|\n",
            "|      303|        102|                3|3.5| 3.0| 8.5|       0|            0.62| [303.0,102.0,8.5]|\n",
            "+---------+-----------+-----------------+---+----+----+--------+----------------+------------------+\n",
            "only showing top 20 rows\n",
            "\n"
          ]
        }
      ]
    },
    {
      "cell_type": "code",
      "source": [
        "from pyspark.ml.regression import LinearRegression\n",
        "\n",
        "final_data = output_data.select('features', 'Chance of Admit ')\n",
        "\n",
        "# Print schema of final data\n",
        "final_data.printSchema()"
      ],
      "metadata": {
        "colab": {
          "base_uri": "https://localhost:8080/"
        },
        "id": "ZhHXJBdd_jWj",
        "outputId": "97c8c48c-46de-4e77-c7b3-71a63af1474c"
      },
      "execution_count": null,
      "outputs": [
        {
          "output_type": "stream",
          "name": "stdout",
          "text": [
            "root\n",
            " |-- features: vector (nullable = true)\n",
            " |-- Chance of Admit : double (nullable = true)\n",
            "\n"
          ]
        }
      ]
    },
    {
      "cell_type": "code",
      "source": [
        "train, test = final_data.randomSplit([0.7, 0.3])"
      ],
      "metadata": {
        "id": "B2vbJri__mao"
      },
      "execution_count": null,
      "outputs": []
    },
    {
      "cell_type": "code",
      "source": [
        "models = LinearRegression(featuresCol='features',labelCol='Chance of Admit ')\n",
        "model = models.fit(train)\n",
        "\n",
        "# Get summary of the model\n",
        "summary = model.summary\n",
        "\n",
        "# Print rmse & r2\n",
        "print('\\033[1m' + 'RMSE:',summary.rootMeanSquaredError)\n",
        "print('R2 score:', summary.r2)\n",
        "print('MAE score:', summary.meanAbsoluteError)\n",
        "print('MSE score:', summary.meanSquaredError)"
      ],
      "metadata": {
        "colab": {
          "base_uri": "https://localhost:8080/"
        },
        "id": "MkF2_uEn_o2f",
        "outputId": "a03cf22c-f17b-4edf-cb6c-d7ad3e29dfa8"
      },
      "execution_count": null,
      "outputs": [
        {
          "output_type": "stream",
          "name": "stdout",
          "text": [
            "\u001b[1mRMSE: 0.06461587413995486\n",
            "R2 score: 0.7802944000344716\n",
            "MAE score: 0.047517842263756806\n",
            "MSE score: 0.004175211190870487\n"
          ]
        }
      ]
    },
    {
      "cell_type": "code",
      "source": [
        "# Transform on the test data\n",
        "predictions = model.transform(test)\n",
        "\n",
        "# Display the predictions\n",
        "predictions.show(20)"
      ],
      "metadata": {
        "colab": {
          "base_uri": "https://localhost:8080/"
        },
        "id": "R2nMFlsM_ud4",
        "outputId": "606f3ac0-e8da-4f8e-b0a1-d57912f88a30"
      },
      "execution_count": null,
      "outputs": [
        {
          "output_type": "stream",
          "name": "stdout",
          "text": [
            "+------------------+----------------+-------------------+\n",
            "|          features|Chance of Admit |         prediction|\n",
            "+------------------+----------------+-------------------+\n",
            "| [294.0,93.0,7.36]|            0.46| 0.4519090667742893|\n",
            "| [294.0,95.0,7.64]|            0.49| 0.4963432145777915|\n",
            "| [296.0,95.0,7.54]|            0.44|0.48768927297297404|\n",
            "|  [296.0,97.0,7.8]|            0.49| 0.5293470993596157|\n",
            "|[296.0,101.0,7.68]|             0.6| 0.5238204667933708|\n",
            "| [297.0,96.0,7.43]|            0.34|0.47781616190371334|\n",
            "| [297.0,96.0,7.89]|            0.43| 0.5416715544914994|\n",
            "| [297.0,98.0,7.67]|            0.59| 0.5166976668734953|\n",
            "| [298.0,99.0,7.46]|            0.53|0.49294294871993305|\n",
            "|[298.0,101.0,7.86]|            0.54| 0.5540350250245969|\n",
            "| [299.0,94.0,7.34]|            0.42|0.46498473303986776|\n",
            "| [299.0,96.0,7.86]|            0.54| 0.5427347378456928|\n",
            "|[299.0,100.0,7.88]|            0.68| 0.5566423551974697|\n",
            "|[300.0,100.0,8.26]|            0.62| 0.6120062948575566|\n",
            "|[300.0,104.0,8.16]|            0.71| 0.6092559837081724|\n",
            "| [300.0,105.0,7.8]|            0.58| 0.5620650221884165|\n",
            "| [301.0,97.0,7.88]|            0.44| 0.5535215487257656|\n",
            "|[301.0,106.0,8.47]|            0.57| 0.6604684463767065|\n",
            "|[303.0,100.0,8.06]|            0.64| 0.5920845789081794|\n",
            "| [303.0,102.0,8.5]|            0.62|  0.658729298046564|\n",
            "+------------------+----------------+-------------------+\n",
            "only showing top 20 rows\n",
            "\n"
          ]
        }
      ]
    },
    {
      "cell_type": "code",
      "source": [
        "# Evaluate the model\n",
        "from pyspark.ml.evaluation import RegressionEvaluator\n",
        "\n",
        "evaluator = RegressionEvaluator(predictionCol='prediction',\n",
        "                                labelCol='Chance of Admit ',\n",
        "                                metricName='r2')\n",
        "\n",
        "print('\\033[1m' + 'R2 on the test data:',evaluator.evaluate(predictions)) "
      ],
      "metadata": {
        "colab": {
          "base_uri": "https://localhost:8080/"
        },
        "id": "vgak7qTM_vSF",
        "outputId": "eb91506b-6232-4d32-9292-b179e8860dfa"
      },
      "execution_count": null,
      "outputs": [
        {
          "output_type": "stream",
          "name": "stdout",
          "text": [
            "\u001b[1mR2 on the test data: 0.7930406494410255\n"
          ]
        }
      ]
    },
    {
      "cell_type": "code",
      "source": [
        "models = LinearRegression(featuresCol='features',labelCol='Chance of Admit ')\n",
        "model = models.fit(test)\n",
        "\n",
        "# Get summary of the model\n",
        "summary = model.summary\n",
        "\n",
        "# Print RMSE , R2 , MAE , MSE\n",
        "print('\\033[1m' + 'RMSE:',summary.rootMeanSquaredError)\n",
        "print('R2 score:', summary.r2)\n",
        "print('MAE score:', summary.meanAbsoluteError)\n",
        "print('MSE score:', summary.meanSquaredError)"
      ],
      "metadata": {
        "colab": {
          "base_uri": "https://localhost:8080/"
        },
        "id": "6OzfwAuqHkoN",
        "outputId": "7689d4d8-6734-4206-e7e5-aba1900c5a2f"
      },
      "execution_count": null,
      "outputs": [
        {
          "output_type": "stream",
          "name": "stdout",
          "text": [
            "\u001b[1mRMSE: 0.068417629333475\n",
            "R2 score: 0.7991663366730577\n",
            "MAE score: 0.04753535517839\n",
            "MSE score: 0.004680972003612779\n"
          ]
        }
      ]
    },
    {
      "cell_type": "code",
      "source": [],
      "metadata": {
        "id": "HRwo_KdcGTsE"
      },
      "execution_count": null,
      "outputs": []
    }
  ]
}